{
 "cells": [
  {
   "cell_type": "code",
   "execution_count": 94,
   "id": "309ac4f9-ca6d-43df-8f66-70bd9d7d8d88",
   "metadata": {},
   "outputs": [
    {
     "name": "stdout",
     "output_type": "stream",
     "text": [
      "Requirement already satisfied: seaborn in c:\\python311\\lib\\site-packages (0.12.2)\n",
      "Requirement already satisfied: numpy!=1.24.0,>=1.17 in c:\\python311\\lib\\site-packages (from seaborn) (1.23.5)\n",
      "Requirement already satisfied: pandas>=0.25 in c:\\python311\\lib\\site-packages (from seaborn) (2.0.2)\n",
      "Requirement already satisfied: matplotlib!=3.6.1,>=3.1 in c:\\python311\\lib\\site-packages (from seaborn) (3.7.1)\n",
      "Requirement already satisfied: contourpy>=1.0.1 in c:\\python311\\lib\\site-packages (from matplotlib!=3.6.1,>=3.1->seaborn) (1.0.7)\n",
      "Requirement already satisfied: cycler>=0.10 in c:\\python311\\lib\\site-packages (from matplotlib!=3.6.1,>=3.1->seaborn) (0.11.0)\n",
      "Requirement already satisfied: fonttools>=4.22.0 in c:\\python311\\lib\\site-packages (from matplotlib!=3.6.1,>=3.1->seaborn) (4.39.4)\n",
      "Requirement already satisfied: kiwisolver>=1.0.1 in c:\\python311\\lib\\site-packages (from matplotlib!=3.6.1,>=3.1->seaborn) (1.4.4)\n",
      "Requirement already satisfied: packaging>=20.0 in c:\\python311\\lib\\site-packages (from matplotlib!=3.6.1,>=3.1->seaborn) (23.1)\n",
      "Requirement already satisfied: pillow>=6.2.0 in c:\\python311\\lib\\site-packages (from matplotlib!=3.6.1,>=3.1->seaborn) (9.5.0)\n",
      "Requirement already satisfied: pyparsing>=2.3.1 in c:\\python311\\lib\\site-packages (from matplotlib!=3.6.1,>=3.1->seaborn) (3.0.9)\n",
      "Requirement already satisfied: python-dateutil>=2.7 in c:\\python311\\lib\\site-packages (from matplotlib!=3.6.1,>=3.1->seaborn) (2.8.2)\n",
      "Requirement already satisfied: pytz>=2020.1 in c:\\python311\\lib\\site-packages (from pandas>=0.25->seaborn) (2023.3)\n",
      "Requirement already satisfied: tzdata>=2022.1 in c:\\python311\\lib\\site-packages (from pandas>=0.25->seaborn) (2023.3)\n",
      "Requirement already satisfied: six>=1.5 in c:\\python311\\lib\\site-packages (from python-dateutil>=2.7->matplotlib!=3.6.1,>=3.1->seaborn) (1.16.0)\n"
     ]
    },
    {
     "name": "stderr",
     "output_type": "stream",
     "text": [
      "DEPRECATION: Loading egg at c:\\python311\\lib\\site-packages\\vboxapi-1.0-py3.11.egg is deprecated. pip 23.3 will enforce this behaviour change. A possible replacement is to use pip for package installation..\n",
      "\n",
      "[notice] A new release of pip is available: 23.2.1 -> 24.0\n",
      "[notice] To update, run: python.exe -m pip install --upgrade pip\n"
     ]
    }
   ],
   "source": [
    "!pip install seaborn"
   ]
  },
  {
   "cell_type": "code",
   "execution_count": 1,
   "id": "02928738",
   "metadata": {},
   "outputs": [],
   "source": [
    "import pandas as pd\n",
    "from sklearn.model_selection import train_test_split\n",
    "from sklearn.ensemble import RandomForestClassifier \n",
    "import numpy as np\n",
    "import seaborn as sns\n",
    "# Load your data (replace 'your_data.csv' with your actual file)\n",
    "data = pd.read_csv('sorted_insider_trading_data.csv')"
   ]
  },
  {
   "cell_type": "code",
   "execution_count": 2,
   "id": "59e0cadc-cd88-4a4f-a446-07fcafca4ac1",
   "metadata": {},
   "outputs": [],
   "source": [
    "values=data.drop(\"is_insider\",axis=1)\n",
    "labels=data[\"is_insider\"]"
   ]
  },
  {
   "cell_type": "code",
   "execution_count": 3,
   "id": "d0798e64",
   "metadata": {},
   "outputs": [],
   "source": [
    "values=values[[\"% SHAREHOLDING (PRIOR) \\n\",\"NO. OF SECURITIES (ACQUIRED/DISPLOSED) \\n\",\"VALUE OF SECURITY (ACQUIRED/DISPLOSED) \\n\",\"NO. OF SECURITY (POST) \\n\"]]\n"
   ]
  },
  {
   "cell_type": "code",
   "execution_count": 4,
   "id": "ca8459f0",
   "metadata": {},
   "outputs": [
    {
     "data": {
      "text/plain": [
       "% SHAREHOLDING (PRIOR) \\n                    float64\n",
       "NO. OF SECURITIES (ACQUIRED/DISPLOSED) \\n    float64\n",
       "VALUE OF SECURITY (ACQUIRED/DISPLOSED) \\n    float64\n",
       "NO. OF SECURITY (POST) \\n                    float64\n",
       "dtype: object"
      ]
     },
     "execution_count": 4,
     "metadata": {},
     "output_type": "execute_result"
    }
   ],
   "source": [
    "values.replace(to_replace=\"-\",value=0,inplace=True)\n",
    "values.replace(to_replace=\"Nil\",value=0,inplace=True)\n",
    "values=values.astype(\"float\")\n",
    "values.dtypes"
   ]
  },
  {
   "cell_type": "code",
   "execution_count": 5,
   "id": "1ceaf671",
   "metadata": {},
   "outputs": [
    {
     "data": {
      "text/html": [
       "<div>\n",
       "<style scoped>\n",
       "    .dataframe tbody tr th:only-of-type {\n",
       "        vertical-align: middle;\n",
       "    }\n",
       "\n",
       "    .dataframe tbody tr th {\n",
       "        vertical-align: top;\n",
       "    }\n",
       "\n",
       "    .dataframe thead th {\n",
       "        text-align: right;\n",
       "    }\n",
       "</style>\n",
       "<table border=\"1\" class=\"dataframe\">\n",
       "  <thead>\n",
       "    <tr style=\"text-align: right;\">\n",
       "      <th></th>\n",
       "      <th>% SHAREHOLDING (PRIOR) \\n</th>\n",
       "      <th>NO. OF SECURITIES (ACQUIRED/DISPLOSED) \\n</th>\n",
       "      <th>VALUE OF SECURITY (ACQUIRED/DISPLOSED) \\n</th>\n",
       "      <th>NO. OF SECURITY (POST) \\n</th>\n",
       "    </tr>\n",
       "  </thead>\n",
       "  <tbody>\n",
       "    <tr>\n",
       "      <th>0</th>\n",
       "      <td>0.00</td>\n",
       "      <td>0.0</td>\n",
       "      <td>0.0</td>\n",
       "      <td>5000.0</td>\n",
       "    </tr>\n",
       "    <tr>\n",
       "      <th>1</th>\n",
       "      <td>0.03</td>\n",
       "      <td>0.0</td>\n",
       "      <td>0.0</td>\n",
       "      <td>30000.0</td>\n",
       "    </tr>\n",
       "    <tr>\n",
       "      <th>2</th>\n",
       "      <td>0.03</td>\n",
       "      <td>0.0</td>\n",
       "      <td>0.0</td>\n",
       "      <td>30000.0</td>\n",
       "    </tr>\n",
       "    <tr>\n",
       "      <th>3</th>\n",
       "      <td>0.04</td>\n",
       "      <td>0.0</td>\n",
       "      <td>0.0</td>\n",
       "      <td>49248.0</td>\n",
       "    </tr>\n",
       "    <tr>\n",
       "      <th>4</th>\n",
       "      <td>1.13</td>\n",
       "      <td>38596.0</td>\n",
       "      <td>193536.0</td>\n",
       "      <td>1137500.0</td>\n",
       "    </tr>\n",
       "    <tr>\n",
       "      <th>...</th>\n",
       "      <td>...</td>\n",
       "      <td>...</td>\n",
       "      <td>...</td>\n",
       "      <td>...</td>\n",
       "    </tr>\n",
       "    <tr>\n",
       "      <th>504</th>\n",
       "      <td>4.57</td>\n",
       "      <td>3899.0</td>\n",
       "      <td>6735147.0</td>\n",
       "      <td>47111320.0</td>\n",
       "    </tr>\n",
       "    <tr>\n",
       "      <th>505</th>\n",
       "      <td>4.04</td>\n",
       "      <td>0.0</td>\n",
       "      <td>0.0</td>\n",
       "      <td>41938431.0</td>\n",
       "    </tr>\n",
       "    <tr>\n",
       "      <th>506</th>\n",
       "      <td>3.85</td>\n",
       "      <td>0.0</td>\n",
       "      <td>0.0</td>\n",
       "      <td>40087987.0</td>\n",
       "    </tr>\n",
       "    <tr>\n",
       "      <th>507</th>\n",
       "      <td>0.00</td>\n",
       "      <td>0.0</td>\n",
       "      <td>0.0</td>\n",
       "      <td>2716820.0</td>\n",
       "    </tr>\n",
       "    <tr>\n",
       "      <th>508</th>\n",
       "      <td>5.47</td>\n",
       "      <td>0.0</td>\n",
       "      <td>0.0</td>\n",
       "      <td>55790771.0</td>\n",
       "    </tr>\n",
       "  </tbody>\n",
       "</table>\n",
       "<p>509 rows × 4 columns</p>\n",
       "</div>"
      ],
      "text/plain": [
       "     % SHAREHOLDING (PRIOR) \\n  NO. OF SECURITIES (ACQUIRED/DISPLOSED) \\n  \\\n",
       "0                         0.00                                        0.0   \n",
       "1                         0.03                                        0.0   \n",
       "2                         0.03                                        0.0   \n",
       "3                         0.04                                        0.0   \n",
       "4                         1.13                                    38596.0   \n",
       "..                         ...                                        ...   \n",
       "504                       4.57                                     3899.0   \n",
       "505                       4.04                                        0.0   \n",
       "506                       3.85                                        0.0   \n",
       "507                       0.00                                        0.0   \n",
       "508                       5.47                                        0.0   \n",
       "\n",
       "     VALUE OF SECURITY (ACQUIRED/DISPLOSED) \\n  NO. OF SECURITY (POST) \\n  \n",
       "0                                          0.0                     5000.0  \n",
       "1                                          0.0                    30000.0  \n",
       "2                                          0.0                    30000.0  \n",
       "3                                          0.0                    49248.0  \n",
       "4                                     193536.0                  1137500.0  \n",
       "..                                         ...                        ...  \n",
       "504                                  6735147.0                 47111320.0  \n",
       "505                                        0.0                 41938431.0  \n",
       "506                                        0.0                 40087987.0  \n",
       "507                                        0.0                  2716820.0  \n",
       "508                                        0.0                 55790771.0  \n",
       "\n",
       "[509 rows x 4 columns]"
      ]
     },
     "execution_count": 5,
     "metadata": {},
     "output_type": "execute_result"
    }
   ],
   "source": [
    "#values=values.drop('NUMBER OF UNITS/CONTRACT LOT SIZE (SELL) \\n',axis=1)\n",
    "values=values.fillna(0)\n",
    "values"
   ]
  },
  {
   "cell_type": "code",
   "execution_count": 6,
   "id": "e7d4e421-b305-45c0-a81f-86872fa0a356",
   "metadata": {},
   "outputs": [
    {
     "data": {
      "text/plain": [
       "% SHAREHOLDING (PRIOR) \\n                    0\n",
       "NO. OF SECURITIES (ACQUIRED/DISPLOSED) \\n    0\n",
       "VALUE OF SECURITY (ACQUIRED/DISPLOSED) \\n    0\n",
       "NO. OF SECURITY (POST) \\n                    0\n",
       "dtype: int64"
      ]
     },
     "execution_count": 6,
     "metadata": {},
     "output_type": "execute_result"
    }
   ],
   "source": [
    "values.isna().sum()"
   ]
  },
  {
   "cell_type": "code",
   "execution_count": 98,
   "id": "1af5f61e-3606-44f8-8807-f93e306b0126",
   "metadata": {},
   "outputs": [
    {
     "ename": "ValueError",
     "evalue": "DataFrame constructor not properly called!",
     "output_type": "error",
     "traceback": [
      "\u001b[1;31m---------------------------------------------------------------------------\u001b[0m",
      "\u001b[1;31mValueError\u001b[0m                                Traceback (most recent call last)",
      "\u001b[1;32m~\\AppData\\Local\\Temp\\ipykernel_8972\\4206786628.py\u001b[0m in \u001b[0;36m?\u001b[1;34m()\u001b[0m\n\u001b[1;32m----> 1\u001b[1;33m \u001b[0mcm\u001b[0m\u001b[1;33m=\u001b[0m\u001b[0mpd\u001b[0m\u001b[1;33m.\u001b[0m\u001b[0mDataFrame\u001b[0m\u001b[1;33m(\u001b[0m\u001b[0mcm\u001b[0m\u001b[1;33m)\u001b[0m\u001b[1;33m\u001b[0m\u001b[1;33m\u001b[0m\u001b[0m\n\u001b[0m\u001b[0;32m      2\u001b[0m \u001b[0mcm\u001b[0m\u001b[1;33m\u001b[0m\u001b[1;33m\u001b[0m\u001b[0m\n",
      "\u001b[1;32mC:\\Python311\\Lib\\site-packages\\pandas\\core\\frame.py\u001b[0m in \u001b[0;36m?\u001b[1;34m(self, data, index, columns, dtype, copy)\u001b[0m\n\u001b[0;32m    813\u001b[0m                 )\n\u001b[0;32m    814\u001b[0m         \u001b[1;31m# For data is scalar\u001b[0m\u001b[1;33m\u001b[0m\u001b[1;33m\u001b[0m\u001b[0m\n\u001b[0;32m    815\u001b[0m         \u001b[1;32melse\u001b[0m\u001b[1;33m:\u001b[0m\u001b[1;33m\u001b[0m\u001b[1;33m\u001b[0m\u001b[0m\n\u001b[0;32m    816\u001b[0m             \u001b[1;32mif\u001b[0m \u001b[0mindex\u001b[0m \u001b[1;32mis\u001b[0m \u001b[1;32mNone\u001b[0m \u001b[1;32mor\u001b[0m \u001b[0mcolumns\u001b[0m \u001b[1;32mis\u001b[0m \u001b[1;32mNone\u001b[0m\u001b[1;33m:\u001b[0m\u001b[1;33m\u001b[0m\u001b[1;33m\u001b[0m\u001b[0m\n\u001b[1;32m--> 817\u001b[1;33m                 \u001b[1;32mraise\u001b[0m \u001b[0mValueError\u001b[0m\u001b[1;33m(\u001b[0m\u001b[1;34m\"DataFrame constructor not properly called!\"\u001b[0m\u001b[1;33m)\u001b[0m\u001b[1;33m\u001b[0m\u001b[1;33m\u001b[0m\u001b[0m\n\u001b[0m\u001b[0;32m    818\u001b[0m \u001b[1;33m\u001b[0m\u001b[0m\n\u001b[0;32m    819\u001b[0m             \u001b[0mindex\u001b[0m \u001b[1;33m=\u001b[0m \u001b[0mensure_index\u001b[0m\u001b[1;33m(\u001b[0m\u001b[0mindex\u001b[0m\u001b[1;33m)\u001b[0m\u001b[1;33m\u001b[0m\u001b[1;33m\u001b[0m\u001b[0m\n\u001b[0;32m    820\u001b[0m             \u001b[0mcolumns\u001b[0m \u001b[1;33m=\u001b[0m \u001b[0mensure_index\u001b[0m\u001b[1;33m(\u001b[0m\u001b[0mcolumns\u001b[0m\u001b[1;33m)\u001b[0m\u001b[1;33m\u001b[0m\u001b[1;33m\u001b[0m\u001b[0m\n",
      "\u001b[1;31mValueError\u001b[0m: DataFrame constructor not properly called!"
     ]
    }
   ],
   "source": [
    "cm=pd.DataFrame(cm)\n",
    "cm"
   ]
  },
  {
   "cell_type": "code",
   "execution_count": 9,
   "id": "a5831065-ceb3-405a-a60d-d3ee381a278b",
   "metadata": {},
   "outputs": [
    {
     "name": "stdout",
     "output_type": "stream",
     "text": [
      "Epoch 1/30\n",
      "13/13 [==============================] - 1s 15ms/step - loss: 0.6931 - accuracy: 0.5258 - val_loss: 0.6904 - val_accuracy: 0.6275\n",
      "Epoch 2/30\n",
      "13/13 [==============================] - 0s 5ms/step - loss: 0.6893 - accuracy: 0.5774 - val_loss: 0.6826 - val_accuracy: 0.6275\n",
      "Epoch 3/30\n",
      "13/13 [==============================] - 0s 5ms/step - loss: 0.6854 - accuracy: 0.5774 - val_loss: 0.6741 - val_accuracy: 0.6275\n",
      "Epoch 4/30\n",
      "13/13 [==============================] - 0s 4ms/step - loss: 0.6815 - accuracy: 0.5774 - val_loss: 0.6663 - val_accuracy: 0.6275\n",
      "Epoch 5/30\n",
      "13/13 [==============================] - 0s 5ms/step - loss: 0.6766 - accuracy: 0.5971 - val_loss: 0.6600 - val_accuracy: 0.6275\n",
      "Epoch 6/30\n",
      "13/13 [==============================] - 0s 5ms/step - loss: 0.6701 - accuracy: 0.5921 - val_loss: 0.6550 - val_accuracy: 0.6373\n",
      "Epoch 7/30\n",
      "13/13 [==============================] - 0s 4ms/step - loss: 0.6636 - accuracy: 0.6118 - val_loss: 0.6440 - val_accuracy: 0.6275\n",
      "Epoch 8/30\n",
      "13/13 [==============================] - 0s 5ms/step - loss: 0.6567 - accuracy: 0.6093 - val_loss: 0.6365 - val_accuracy: 0.6373\n",
      "Epoch 9/30\n",
      "13/13 [==============================] - 0s 4ms/step - loss: 0.6471 - accuracy: 0.6339 - val_loss: 0.6310 - val_accuracy: 0.6667\n",
      "Epoch 10/30\n",
      "13/13 [==============================] - 0s 5ms/step - loss: 0.6417 - accuracy: 0.6486 - val_loss: 0.6265 - val_accuracy: 0.6373\n",
      "Epoch 11/30\n",
      "13/13 [==============================] - 0s 5ms/step - loss: 0.6427 - accuracy: 0.6511 - val_loss: 0.6202 - val_accuracy: 0.6765\n",
      "Epoch 12/30\n",
      "13/13 [==============================] - 0s 4ms/step - loss: 0.6318 - accuracy: 0.6437 - val_loss: 0.6159 - val_accuracy: 0.6765\n",
      "Epoch 13/30\n",
      "13/13 [==============================] - 0s 4ms/step - loss: 0.6233 - accuracy: 0.6609 - val_loss: 0.6112 - val_accuracy: 0.6569\n",
      "Epoch 14/30\n",
      "13/13 [==============================] - 0s 4ms/step - loss: 0.6211 - accuracy: 0.6511 - val_loss: 0.6076 - val_accuracy: 0.6961\n",
      "Epoch 15/30\n",
      "13/13 [==============================] - 0s 4ms/step - loss: 0.6135 - accuracy: 0.6683 - val_loss: 0.6036 - val_accuracy: 0.6765\n",
      "Epoch 16/30\n",
      "13/13 [==============================] - 0s 5ms/step - loss: 0.6125 - accuracy: 0.6585 - val_loss: 0.5980 - val_accuracy: 0.6961\n",
      "Epoch 17/30\n",
      "13/13 [==============================] - 0s 5ms/step - loss: 0.6136 - accuracy: 0.6732 - val_loss: 0.5948 - val_accuracy: 0.6961\n",
      "Epoch 18/30\n",
      "13/13 [==============================] - 0s 4ms/step - loss: 0.6055 - accuracy: 0.6757 - val_loss: 0.5985 - val_accuracy: 0.6863\n",
      "Epoch 19/30\n",
      "13/13 [==============================] - 0s 5ms/step - loss: 0.6025 - accuracy: 0.6757 - val_loss: 0.6195 - val_accuracy: 0.6961\n",
      "Epoch 20/30\n",
      "13/13 [==============================] - 0s 6ms/step - loss: 0.6047 - accuracy: 0.6634 - val_loss: 0.5981 - val_accuracy: 0.6863\n",
      "Epoch 21/30\n",
      "13/13 [==============================] - 0s 5ms/step - loss: 0.5917 - accuracy: 0.6880 - val_loss: 0.5820 - val_accuracy: 0.7059\n",
      "Epoch 22/30\n",
      "13/13 [==============================] - 0s 5ms/step - loss: 0.5868 - accuracy: 0.6880 - val_loss: 0.5818 - val_accuracy: 0.7059\n",
      "Epoch 23/30\n",
      "13/13 [==============================] - 0s 5ms/step - loss: 0.5834 - accuracy: 0.6953 - val_loss: 0.5781 - val_accuracy: 0.7157\n",
      "Epoch 24/30\n",
      "13/13 [==============================] - 0s 4ms/step - loss: 0.5822 - accuracy: 0.6978 - val_loss: 0.5790 - val_accuracy: 0.6961\n",
      "Epoch 25/30\n",
      "13/13 [==============================] - 0s 5ms/step - loss: 0.5917 - accuracy: 0.6609 - val_loss: 0.5808 - val_accuracy: 0.6961\n",
      "Epoch 26/30\n",
      "13/13 [==============================] - 0s 4ms/step - loss: 0.5931 - accuracy: 0.6855 - val_loss: 0.5764 - val_accuracy: 0.7353\n",
      "Epoch 27/30\n",
      "13/13 [==============================] - 0s 4ms/step - loss: 0.5760 - accuracy: 0.7027 - val_loss: 0.5876 - val_accuracy: 0.6863\n",
      "Epoch 28/30\n",
      "13/13 [==============================] - 0s 4ms/step - loss: 0.5788 - accuracy: 0.6904 - val_loss: 0.5769 - val_accuracy: 0.6961\n",
      "Epoch 29/30\n",
      "13/13 [==============================] - 0s 5ms/step - loss: 0.5684 - accuracy: 0.7002 - val_loss: 0.5679 - val_accuracy: 0.7353\n",
      "Epoch 30/30\n",
      "13/13 [==============================] - 0s 6ms/step - loss: 0.5678 - accuracy: 0.7076 - val_loss: 0.5920 - val_accuracy: 0.6863\n"
     ]
    }
   ],
   "source": [
    "sequential_model=Sequential()\n",
    "sequential_model.add(Dense(units=128, activation='relu', input_shape=(4,)))\n",
    "sequential_model.add(Dense(units=64, activation='relu'))\n",
    "sequential_model.add(Dense(units=32, activation='relu'))\n",
    "sequential_model.add(Dense(units=16, activation='relu'))\n",
    "sequential_model.add(Dense(units=2,activation='softmax'))\n",
    "sequential_model.compile(loss='sparse_categorical_crossentropy', optimizer='adam', metrics=['accuracy'])\n",
    "tf=sequential_model.fit(x_train,y_train,validation_data=(x_test,y_test),epochs=30)"
   ]
  },
  {
   "cell_type": "code",
   "execution_count": 10,
   "id": "38d0e2fe-c19d-4e81-8f83-b54b0f191ef0",
   "metadata": {},
   "outputs": [
    {
     "name": "stdout",
     "output_type": "stream",
     "text": [
      "4/4 [==============================] - 0s 2ms/step\n"
     ]
    },
    {
     "data": {
      "image/png": "[encoded data removed]",
      "text/plain": [
       "<Figure size 640x480 with 1 Axes>"
      ]
     },
     "metadata": {},
     "output_type": "display_data"
    }
   ],
   "source": [
    "preds=sequential_model.predict(x_test)\n",
    "plt.plot(tf.history['loss'])\n",
    "plt.plot(tf.history['val_loss'])\n",
    "plt.plot(tf.history['accuracy'])\n",
    "plt.plot(tf.history['val_accuracy'])\n",
    "plt.xlabel('Epochs')\n",
    "plt.ylabel('Metrics')\n",
    "plt.legend(['loss', 'val_loss','accuracy','val_accuracy'])\n",
    "plt.show()"
   ]
  },
  {
   "cell_type": "code",
   "execution_count": 11,
   "id": "1890bc41-e5da-433f-b97d-4eaf57ace789",
   "metadata": {},
   "outputs": [
    {
     "name": "stdout",
     "output_type": "stream",
     "text": [
      "0.6862745098039216\n",
      "Confusion Matrix:\n",
      " [[ 8 31]\n",
      " [ 1 62]]\n",
      "Classification Report:\n",
      "               precision    recall  f1-score   support\n",
      "\n",
      "           0       0.89      0.21      0.33        39\n",
      "           1       0.67      0.98      0.79        63\n",
      "\n",
      "    accuracy                           0.69       102\n",
      "   macro avg       0.78      0.59      0.56       102\n",
      "weighted avg       0.75      0.69      0.62       102\n",
      "\n"
     ]
    }
   ],
   "source": [
    "preds=np.argmax(preds,axis=1)\n",
    "accuracy = accuracy_score(y_test, preds)\n",
    "confusion_matrix_result = confusion_matrix(y_test, preds)\n",
    "print(accuracy)\n",
    "print(\"Confusion Matrix:\\n\", confusion_matrix_result)\n",
    "print(\"Classification Report:\\n\", classification_report(y_test, preds))"
   ]
  },
  {
   "cell_type": "code",
   "execution_count": null,
   "id": "167552ad-4a98-4e40-9cfd-ecbcf960d73d",
   "metadata": {},
   "outputs": [],
   "source": []
  }
 ],
 "metadata": {
  "kernelspec": {
   "display_name": "Python 3 (ipykernel)",
   "language": "python",
   "name": "python3"
  },
  "language_info": {
   "codemirror_mode": {
    "name": "ipython",
    "version": 3
   },
   "file_extension": ".py",
   "mimetype": "text/x-python",
   "name": "python",
   "nbconvert_exporter": "python",
   "pygments_lexer": "ipython3",
   "version": "3.12.0"
  }
 },
 "nbformat": 4,
 "nbformat_minor": 5
}
