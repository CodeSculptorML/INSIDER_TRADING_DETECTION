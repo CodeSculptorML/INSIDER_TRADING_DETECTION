{
 "cells": [
  {
   "cell_type": "code",
   "execution_count": 4,
   "id": "c977082a-edf0-4652-964e-f5de6d400a09",
   "metadata": {},
   "outputs": [],
   "source": [
    "import pandas as pd\n",
    "from sklearn.model_selection import train_test_split\n",
    "from sklearn.preprocessing import StandardScaler\n",
    "from sklearn.linear_model import LogisticRegression\n",
    "from sklearn.metrics import accuracy_score, classification_report, confusion_matrix\n",
    "import matplotlib.pyplot as plt"
   ]
  },
  {
   "cell_type": "code",
   "execution_count": 5,
   "id": "38551c56-f156-46ea-a6ed-35b98be0f469",
   "metadata": {},
   "outputs": [],
   "source": [
    "# Load your dataset (assuming it's stored in a CSV file)\n",
    "df = pd.read_csv('new_dataset.csv')\n"
   ]
  },
  {
   "cell_type": "code",
   "execution_count": 6,
   "id": "88a63b28-45d1-4834-9c12-793cea82b7cc",
   "metadata": {},
   "outputs": [
    {
     "data": {
      "text/plain": [
       "<bound method DataFrame.info of      SYMBOL \\n NAME OF THE ACQUIRER/DISPOSER \\n  \\\n",
       "0       360ONE                    Vishal Khanna   \n",
       "1       360ONE                     Meer Thakker   \n",
       "2       360ONE                  Anup Maheshwari   \n",
       "3       360ONE               ARZAN FALI TAMBOLY   \n",
       "4       360ONE                      Chetan Naik   \n",
       "...        ...                              ...   \n",
       "2081    5PAISA              MAYUR PREMJI DEDHIA   \n",
       "2082    5PAISA                 PRAKARSH GAGDANI   \n",
       "2083    5PAISA                 PRAKARSH GAGDANI   \n",
       "2084    5PAISA              MAYUR PREMJI DEDHIA   \n",
       "2085    5PAISA                 PRAKARSH GAGDANI   \n",
       "\n",
       "               CATEGORY OF PERSON \\n TYPE OF SECURITY (PRIOR) \\n  \\\n",
       "0                                  -               Equity Shares   \n",
       "1                                  -               Equity Shares   \n",
       "2                                  -               Equity Shares   \n",
       "3                                  -               Equity Shares   \n",
       "4                                  -               Equity Shares   \n",
       "...                              ...                         ...   \n",
       "2081  Employees/Designated Employees               Equity Shares   \n",
       "2082        Key Managerial Personnel               Equity Shares   \n",
       "2083        Key Managerial Personnel               Equity Shares   \n",
       "2084  Employees/Designated Employees               Equity Shares   \n",
       "2085        Key Managerial Personnel               Equity Shares   \n",
       "\n",
       "      % SHAREHOLDING (PRIOR) \\n  NO. OF SECURITIES (ACQUIRED/DISPLOSED) \\n  \\\n",
       "0                          0.01                                     1952.0   \n",
       "1                          0.02                                     3724.0   \n",
       "2                          0.04                                    22495.0   \n",
       "3                          0.02                                    31512.0   \n",
       "4                          0.00                                    13500.0   \n",
       "...                         ...                                        ...   \n",
       "2081                       0.10                                     1600.0   \n",
       "2082                       0.16                                    24761.0   \n",
       "2083                       0.08                                    10589.0   \n",
       "2084                       0.11                                     3000.0   \n",
       "2085                       0.04                                    12560.0   \n",
       "\n",
       "      VALUE OF SECURITY (ACQUIRED/DISPLOSED) \\n  \\\n",
       "0                                       1285037   \n",
       "1                                       2643705   \n",
       "2                                      15932702   \n",
       "3                                      20927157   \n",
       "4                                       9520500   \n",
       "...                                         ...   \n",
       "2081                                     731620   \n",
       "2082                                   11251931   \n",
       "2083                                    4555820   \n",
       "2084                                    1306263   \n",
       "2085                                    5173787   \n",
       "\n",
       "     ACQUISITION/DISPOSAL TRANSACTION TYPE \\n NO. OF SECURITY (POST) \\n  \\\n",
       "0                                        Sell                     16000   \n",
       "1                                        Sell                     72000   \n",
       "2                                        Sell                    108000   \n",
       "3                                        Sell                     30000   \n",
       "4                                        Sell                      2000   \n",
       "...                                       ...                       ...   \n",
       "2081                                     Sell                     30400   \n",
       "2082                                     Sell                     23670   \n",
       "2083                                     Sell                     13081   \n",
       "2084                                     Sell                     32000   \n",
       "2085                                     Sell                       521   \n",
       "\n",
       "     DATE OF ALLOTMENT/ACQUISITION FROM \\n MODE OF ACQUISITION \\n  \\\n",
       "0                               2023-12-04            Market Sale   \n",
       "1                               2023-12-29            Market Sale   \n",
       "2                               2023-12-29            Market Sale   \n",
       "3                               2023-12-27            Market Sale   \n",
       "4                               2023-12-28            Market Sale   \n",
       "...                                    ...                    ...   \n",
       "2081                            2023-10-30            Market Sale   \n",
       "2082                            2023-10-23            Market Sale   \n",
       "2083                            2023-10-25            Market Sale   \n",
       "2084                            2023-10-23            Market Sale   \n",
       "2085                            2023-10-26            Market Sale   \n",
       "\n",
       "      NUMBER OF UNITS/CONTRACT LOT SIZE  (SELL) \\n  is_insider  \n",
       "0                                                0           0  \n",
       "1                                                0           0  \n",
       "2                                                0           0  \n",
       "3                                                0           0  \n",
       "4                                                0           0  \n",
       "...                                            ...         ...  \n",
       "2081                                             0           0  \n",
       "2082                                             0           0  \n",
       "2083                                             0           0  \n",
       "2084                                             0           0  \n",
       "2085                                             0           0  \n",
       "\n",
       "[2086 rows x 13 columns]>"
      ]
     },
     "execution_count": 6,
     "metadata": {},
     "output_type": "execute_result"
    }
   ],
   "source": [
    "df.info\n"
   ]
  },
  {
   "cell_type": "code",
   "execution_count": 7,
   "id": "55b0cfc3-46f7-425c-8631-f736ac7e220d",
   "metadata": {},
   "outputs": [
    {
     "name": "stdout",
     "output_type": "stream",
     "text": [
      "Index(['SYMBOL \\n', 'NAME OF THE ACQUIRER/DISPOSER \\n',\n",
      "       'CATEGORY OF PERSON \\n', 'TYPE OF SECURITY (PRIOR) \\n',\n",
      "       '% SHAREHOLDING (PRIOR) \\n',\n",
      "       'NO. OF SECURITIES (ACQUIRED/DISPLOSED) \\n',\n",
      "       'VALUE OF SECURITY (ACQUIRED/DISPLOSED) \\n',\n",
      "       'ACQUISITION/DISPOSAL TRANSACTION TYPE \\n', 'NO. OF SECURITY (POST) \\n',\n",
      "       'DATE OF ALLOTMENT/ACQUISITION FROM \\n', 'MODE OF ACQUISITION \\n',\n",
      "       'NUMBER OF UNITS/CONTRACT LOT SIZE  (SELL) \\n', 'is_insider'],\n",
      "      dtype='object')\n"
     ]
    }
   ],
   "source": [
    "print(df.columns)"
   ]
  },
  {
   "cell_type": "code",
   "execution_count": 8,
   "id": "79bde94e-c3f9-45cf-9424-62a895db1846",
   "metadata": {},
   "outputs": [
    {
     "data": {
      "image/png": "[encoded data removed]",
      "text/plain": [
       "<Figure size 640x480 with 1 Axes>"
      ]
     },
     "metadata": {},
     "output_type": "display_data"
    }
   ],
   "source": [
    "# Count the occurrences of each value in the binary column\n",
    "value_counts = df['is_insider'].value_counts()\n",
    "\n",
    "# Create a bar plot\n",
    "plt.bar(value_counts.index, value_counts.values, color=['blue', 'green'])\n",
    "\n",
    "# Add labels and title\n",
    "plt.xlabel('is_insider')\n",
    "plt.ylabel('Count')\n",
    "plt.title('Know number of insiders and non- insiders')\n",
    "\n",
    "# Add value labels on top of each bar\n",
    "for i, v in enumerate(value_counts.values):\n",
    "    plt.text(i, v + 10, str(v), ha='center')\n",
    "\n",
    "# Show the plot\n",
    "plt.show()"
   ]
  },
  {
   "cell_type": "code",
   "execution_count": 9,
   "id": "916bdf67-05d5-4b03-8a08-d17883590e5b",
   "metadata": {},
   "outputs": [
    {
     "data": {
      "image/png": "[encoded data removed]",
      "text/plain": [
       "<Figure size 640x480 with 1 Axes>"
      ]
     },
     "metadata": {},
     "output_type": "display_data"
    }
   ],
   "source": [
    "# Create a pie chart\n",
    "plt.pie(value_counts.values, labels=value_counts.index, autopct='%1.1f%%', colors=['blue', 'green'])\n",
    "\n",
    "# Add title\n",
    "plt.title('Distribution of Binary Values')\n",
    "\n",
    "# Show the plot\n",
    "plt.show()"
   ]
  },
  {
   "cell_type": "code",
   "execution_count": 10,
   "id": "d82e96c3-e864-4f3d-a0bd-b76850d118fe",
   "metadata": {},
   "outputs": [
    {
     "data": {
      "text/html": [
       "<div>\n",
       "<style scoped>\n",
       "    .dataframe tbody tr th:only-of-type {\n",
       "        vertical-align: middle;\n",
       "    }\n",
       "\n",
       "    .dataframe tbody tr th {\n",
       "        vertical-align: top;\n",
       "    }\n",
       "\n",
       "    .dataframe thead th {\n",
       "        text-align: right;\n",
       "    }\n",
       "</style>\n",
       "<table border=\"1\" class=\"dataframe\">\n",
       "  <thead>\n",
       "    <tr style=\"text-align: right;\">\n",
       "      <th></th>\n",
       "      <th>SYMBOL \\n</th>\n",
       "      <th>NAME OF THE ACQUIRER/DISPOSER \\n</th>\n",
       "      <th>CATEGORY OF PERSON \\n</th>\n",
       "      <th>TYPE OF SECURITY (PRIOR) \\n</th>\n",
       "      <th>% SHAREHOLDING (PRIOR) \\n</th>\n",
       "      <th>NO. OF SECURITIES (ACQUIRED/DISPLOSED) \\n</th>\n",
       "      <th>VALUE OF SECURITY (ACQUIRED/DISPLOSED) \\n</th>\n",
       "      <th>ACQUISITION/DISPOSAL TRANSACTION TYPE \\n</th>\n",
       "      <th>NO. OF SECURITY (POST) \\n</th>\n",
       "      <th>DATE OF ALLOTMENT/ACQUISITION FROM \\n</th>\n",
       "      <th>MODE OF ACQUISITION \\n</th>\n",
       "      <th>NUMBER OF UNITS/CONTRACT LOT SIZE  (SELL) \\n</th>\n",
       "      <th>is_insider</th>\n",
       "    </tr>\n",
       "  </thead>\n",
       "  <tbody>\n",
       "    <tr>\n",
       "      <th>0</th>\n",
       "      <td>360ONE</td>\n",
       "      <td>Vishal Khanna</td>\n",
       "      <td>-</td>\n",
       "      <td>Equity Shares</td>\n",
       "      <td>0.01</td>\n",
       "      <td>1952.0</td>\n",
       "      <td>1285037</td>\n",
       "      <td>Sell</td>\n",
       "      <td>16000</td>\n",
       "      <td>2023-12-04</td>\n",
       "      <td>Market Sale</td>\n",
       "      <td>0</td>\n",
       "      <td>0</td>\n",
       "    </tr>\n",
       "    <tr>\n",
       "      <th>1</th>\n",
       "      <td>360ONE</td>\n",
       "      <td>Meer Thakker</td>\n",
       "      <td>-</td>\n",
       "      <td>Equity Shares</td>\n",
       "      <td>0.02</td>\n",
       "      <td>3724.0</td>\n",
       "      <td>2643705</td>\n",
       "      <td>Sell</td>\n",
       "      <td>72000</td>\n",
       "      <td>2023-12-29</td>\n",
       "      <td>Market Sale</td>\n",
       "      <td>0</td>\n",
       "      <td>0</td>\n",
       "    </tr>\n",
       "    <tr>\n",
       "      <th>2</th>\n",
       "      <td>360ONE</td>\n",
       "      <td>Anup Maheshwari</td>\n",
       "      <td>-</td>\n",
       "      <td>Equity Shares</td>\n",
       "      <td>0.04</td>\n",
       "      <td>22495.0</td>\n",
       "      <td>15932702</td>\n",
       "      <td>Sell</td>\n",
       "      <td>108000</td>\n",
       "      <td>2023-12-29</td>\n",
       "      <td>Market Sale</td>\n",
       "      <td>0</td>\n",
       "      <td>0</td>\n",
       "    </tr>\n",
       "    <tr>\n",
       "      <th>3</th>\n",
       "      <td>360ONE</td>\n",
       "      <td>ARZAN FALI TAMBOLY</td>\n",
       "      <td>-</td>\n",
       "      <td>Equity Shares</td>\n",
       "      <td>0.02</td>\n",
       "      <td>31512.0</td>\n",
       "      <td>20927157</td>\n",
       "      <td>Sell</td>\n",
       "      <td>30000</td>\n",
       "      <td>2023-12-27</td>\n",
       "      <td>Market Sale</td>\n",
       "      <td>0</td>\n",
       "      <td>0</td>\n",
       "    </tr>\n",
       "    <tr>\n",
       "      <th>4</th>\n",
       "      <td>360ONE</td>\n",
       "      <td>Chetan Naik</td>\n",
       "      <td>-</td>\n",
       "      <td>Equity Shares</td>\n",
       "      <td>0.00</td>\n",
       "      <td>13500.0</td>\n",
       "      <td>9520500</td>\n",
       "      <td>Sell</td>\n",
       "      <td>2000</td>\n",
       "      <td>2023-12-28</td>\n",
       "      <td>Market Sale</td>\n",
       "      <td>0</td>\n",
       "      <td>0</td>\n",
       "    </tr>\n",
       "    <tr>\n",
       "      <th>...</th>\n",
       "      <td>...</td>\n",
       "      <td>...</td>\n",
       "      <td>...</td>\n",
       "      <td>...</td>\n",
       "      <td>...</td>\n",
       "      <td>...</td>\n",
       "      <td>...</td>\n",
       "      <td>...</td>\n",
       "      <td>...</td>\n",
       "      <td>...</td>\n",
       "      <td>...</td>\n",
       "      <td>...</td>\n",
       "      <td>...</td>\n",
       "    </tr>\n",
       "    <tr>\n",
       "      <th>2081</th>\n",
       "      <td>5PAISA</td>\n",
       "      <td>MAYUR PREMJI DEDHIA</td>\n",
       "      <td>Employees/Designated Employees</td>\n",
       "      <td>Equity Shares</td>\n",
       "      <td>0.10</td>\n",
       "      <td>1600.0</td>\n",
       "      <td>731620</td>\n",
       "      <td>Sell</td>\n",
       "      <td>30400</td>\n",
       "      <td>2023-10-30</td>\n",
       "      <td>Market Sale</td>\n",
       "      <td>0</td>\n",
       "      <td>0</td>\n",
       "    </tr>\n",
       "    <tr>\n",
       "      <th>2082</th>\n",
       "      <td>5PAISA</td>\n",
       "      <td>PRAKARSH GAGDANI</td>\n",
       "      <td>Key Managerial Personnel</td>\n",
       "      <td>Equity Shares</td>\n",
       "      <td>0.16</td>\n",
       "      <td>24761.0</td>\n",
       "      <td>11251931</td>\n",
       "      <td>Sell</td>\n",
       "      <td>23670</td>\n",
       "      <td>2023-10-23</td>\n",
       "      <td>Market Sale</td>\n",
       "      <td>0</td>\n",
       "      <td>0</td>\n",
       "    </tr>\n",
       "    <tr>\n",
       "      <th>2083</th>\n",
       "      <td>5PAISA</td>\n",
       "      <td>PRAKARSH GAGDANI</td>\n",
       "      <td>Key Managerial Personnel</td>\n",
       "      <td>Equity Shares</td>\n",
       "      <td>0.08</td>\n",
       "      <td>10589.0</td>\n",
       "      <td>4555820</td>\n",
       "      <td>Sell</td>\n",
       "      <td>13081</td>\n",
       "      <td>2023-10-25</td>\n",
       "      <td>Market Sale</td>\n",
       "      <td>0</td>\n",
       "      <td>0</td>\n",
       "    </tr>\n",
       "    <tr>\n",
       "      <th>2084</th>\n",
       "      <td>5PAISA</td>\n",
       "      <td>MAYUR PREMJI DEDHIA</td>\n",
       "      <td>Employees/Designated Employees</td>\n",
       "      <td>Equity Shares</td>\n",
       "      <td>0.11</td>\n",
       "      <td>3000.0</td>\n",
       "      <td>1306263</td>\n",
       "      <td>Sell</td>\n",
       "      <td>32000</td>\n",
       "      <td>2023-10-23</td>\n",
       "      <td>Market Sale</td>\n",
       "      <td>0</td>\n",
       "      <td>0</td>\n",
       "    </tr>\n",
       "    <tr>\n",
       "      <th>2085</th>\n",
       "      <td>5PAISA</td>\n",
       "      <td>PRAKARSH GAGDANI</td>\n",
       "      <td>Key Managerial Personnel</td>\n",
       "      <td>Equity Shares</td>\n",
       "      <td>0.04</td>\n",
       "      <td>12560.0</td>\n",
       "      <td>5173787</td>\n",
       "      <td>Sell</td>\n",
       "      <td>521</td>\n",
       "      <td>2023-10-26</td>\n",
       "      <td>Market Sale</td>\n",
       "      <td>0</td>\n",
       "      <td>0</td>\n",
       "    </tr>\n",
       "  </tbody>\n",
       "</table>\n",
       "<p>2086 rows × 13 columns</p>\n",
       "</div>"
      ],
      "text/plain": [
       "     SYMBOL \\n NAME OF THE ACQUIRER/DISPOSER \\n  \\\n",
       "0       360ONE                    Vishal Khanna   \n",
       "1       360ONE                     Meer Thakker   \n",
       "2       360ONE                  Anup Maheshwari   \n",
       "3       360ONE               ARZAN FALI TAMBOLY   \n",
       "4       360ONE                      Chetan Naik   \n",
       "...        ...                              ...   \n",
       "2081    5PAISA              MAYUR PREMJI DEDHIA   \n",
       "2082    5PAISA                 PRAKARSH GAGDANI   \n",
       "2083    5PAISA                 PRAKARSH GAGDANI   \n",
       "2084    5PAISA              MAYUR PREMJI DEDHIA   \n",
       "2085    5PAISA                 PRAKARSH GAGDANI   \n",
       "\n",
       "               CATEGORY OF PERSON \\n TYPE OF SECURITY (PRIOR) \\n  \\\n",
       "0                                  -               Equity Shares   \n",
       "1                                  -               Equity Shares   \n",
       "2                                  -               Equity Shares   \n",
       "3                                  -               Equity Shares   \n",
       "4                                  -               Equity Shares   \n",
       "...                              ...                         ...   \n",
       "2081  Employees/Designated Employees               Equity Shares   \n",
       "2082        Key Managerial Personnel               Equity Shares   \n",
       "2083        Key Managerial Personnel               Equity Shares   \n",
       "2084  Employees/Designated Employees               Equity Shares   \n",
       "2085        Key Managerial Personnel               Equity Shares   \n",
       "\n",
       "      % SHAREHOLDING (PRIOR) \\n  NO. OF SECURITIES (ACQUIRED/DISPLOSED) \\n  \\\n",
       "0                          0.01                                     1952.0   \n",
       "1                          0.02                                     3724.0   \n",
       "2                          0.04                                    22495.0   \n",
       "3                          0.02                                    31512.0   \n",
       "4                          0.00                                    13500.0   \n",
       "...                         ...                                        ...   \n",
       "2081                       0.10                                     1600.0   \n",
       "2082                       0.16                                    24761.0   \n",
       "2083                       0.08                                    10589.0   \n",
       "2084                       0.11                                     3000.0   \n",
       "2085                       0.04                                    12560.0   \n",
       "\n",
       "      VALUE OF SECURITY (ACQUIRED/DISPLOSED) \\n  \\\n",
       "0                                       1285037   \n",
       "1                                       2643705   \n",
       "2                                      15932702   \n",
       "3                                      20927157   \n",
       "4                                       9520500   \n",
       "...                                         ...   \n",
       "2081                                     731620   \n",
       "2082                                   11251931   \n",
       "2083                                    4555820   \n",
       "2084                                    1306263   \n",
       "2085                                    5173787   \n",
       "\n",
       "     ACQUISITION/DISPOSAL TRANSACTION TYPE \\n NO. OF SECURITY (POST) \\n  \\\n",
       "0                                        Sell                     16000   \n",
       "1                                        Sell                     72000   \n",
       "2                                        Sell                    108000   \n",
       "3                                        Sell                     30000   \n",
       "4                                        Sell                      2000   \n",
       "...                                       ...                       ...   \n",
       "2081                                     Sell                     30400   \n",
       "2082                                     Sell                     23670   \n",
       "2083                                     Sell                     13081   \n",
       "2084                                     Sell                     32000   \n",
       "2085                                     Sell                       521   \n",
       "\n",
       "     DATE OF ALLOTMENT/ACQUISITION FROM \\n MODE OF ACQUISITION \\n  \\\n",
       "0                               2023-12-04            Market Sale   \n",
       "1                               2023-12-29            Market Sale   \n",
       "2                               2023-12-29            Market Sale   \n",
       "3                               2023-12-27            Market Sale   \n",
       "4                               2023-12-28            Market Sale   \n",
       "...                                    ...                    ...   \n",
       "2081                            2023-10-30            Market Sale   \n",
       "2082                            2023-10-23            Market Sale   \n",
       "2083                            2023-10-25            Market Sale   \n",
       "2084                            2023-10-23            Market Sale   \n",
       "2085                            2023-10-26            Market Sale   \n",
       "\n",
       "      NUMBER OF UNITS/CONTRACT LOT SIZE  (SELL) \\n  is_insider  \n",
       "0                                                0           0  \n",
       "1                                                0           0  \n",
       "2                                                0           0  \n",
       "3                                                0           0  \n",
       "4                                                0           0  \n",
       "...                                            ...         ...  \n",
       "2081                                             0           0  \n",
       "2082                                             0           0  \n",
       "2083                                             0           0  \n",
       "2084                                             0           0  \n",
       "2085                                             0           0  \n",
       "\n",
       "[2086 rows x 13 columns]"
      ]
     },
     "execution_count": 10,
     "metadata": {},
     "output_type": "execute_result"
    }
   ],
   "source": [
    "df"
   ]
  },
  {
   "cell_type": "code",
   "execution_count": 11,
   "id": "0f4543b8-3b00-49cd-8066-bae167581ca8",
   "metadata": {},
   "outputs": [],
   "source": [
    "#new2_df = new_df.dropna(subset=['NO. OF SECURITY (PRIOR) \\r\\n'])\n",
    "#new2_df = new_df[new_df['NO. OF SECURITY (PRIOR) \\r\\n'] != 'Nil']\n"
   ]
  },
  {
   "cell_type": "code",
   "execution_count": 12,
   "id": "687ea840-a45d-4bb9-b0b9-8992a2b9b62f",
   "metadata": {},
   "outputs": [
    {
     "name": "stdout",
     "output_type": "stream",
     "text": [
      "There are no NaN values in the dataset.\n"
     ]
    }
   ],
   "source": [
    "nan_values = df.isna().any().any()\n",
    "\n",
    "if nan_values:\n",
    "    print(\"There are NaN values in the dataset.\")\n",
    "else:\n",
    "    print(\"There are no NaN values in the dataset.\")"
   ]
  },
  {
   "cell_type": "code",
   "execution_count": 13,
   "id": "cd9f7326-b652-4bf9-be5d-bc9fa1e8905b",
   "metadata": {},
   "outputs": [],
   "source": [
    "df = df.dropna(axis=0)"
   ]
  },
  {
   "cell_type": "code",
   "execution_count": 14,
   "id": "03a45068-f19d-4bbe-af1c-012d4b3bec6a",
   "metadata": {},
   "outputs": [],
   "source": [
    "# Assuming 'is_insider' is your target variable and the rest are features\n",
    "X = df.drop(columns=['is_insider'])  # Features\n",
    "y = df['is_insider']  # Target variable"
   ]
  },
  {
   "cell_type": "code",
   "execution_count": 15,
   "id": "7eb88fec-d2a8-4415-843d-5f4b4803498a",
   "metadata": {},
   "outputs": [],
   "source": [
    "# Split the dataset into training and testing sets\n",
    "X_train, X_test, y_train, y_test = train_test_split(X, y, test_size=0.2, random_state=42)\n"
   ]
  },
  {
   "cell_type": "code",
   "execution_count": 16,
   "id": "b8d8a277-847e-47e4-a9e2-4d80036576eb",
   "metadata": {},
   "outputs": [],
   "source": [
    "# Concatenate the training and testing sets to ensure consistent encoding\n",
    "concatenated_df = pd.concat([X_train, X_test], axis=0)\n",
    "\n",
    "# One-hot encode categorical variables\n",
    "concatenated_encoded = pd.get_dummies(concatenated_df)\n",
    "\n",
    "# Split back into training and testing sets\n",
    "X_train_encoded = concatenated_encoded.iloc[:len(X_train)]\n",
    "X_test_encoded = concatenated_encoded.iloc[len(X_train):]\n",
    "\n",
    "# Feature scaling\n",
    "scaler = StandardScaler()\n",
    "X_train_scaled = scaler.fit_transform(X_train_encoded)\n",
    "X_test_scaled = scaler.transform(X_test_encoded)\n"
   ]
  },
  {
   "cell_type": "code",
   "execution_count": 17,
   "id": "9d512e80-eb27-4a53-8661-6bffe4221463",
   "metadata": {},
   "outputs": [],
   "source": [
    "# Initialize the Logistic Regression model\n",
    "logreg_model = LogisticRegression()"
   ]
  },
  {
   "cell_type": "code",
   "execution_count": 18,
   "id": "78d4a497-fc23-4c53-9a31-13777fb3616e",
   "metadata": {},
   "outputs": [
    {
     "data": {
      "text/html": [
       "<style>#sk-container-id-1 {color: black;}#sk-container-id-1 pre{padding: 0;}#sk-container-id-1 div.sk-toggleable {background-color: white;}#sk-container-id-1 label.sk-toggleable__label {cursor: pointer;display: block;width: 100%;margin-bottom: 0;padding: 0.3em;box-sizing: border-box;text-align: center;}#sk-container-id-1 label.sk-toggleable__label-arrow:before {content: \"▸\";float: left;margin-right: 0.25em;color: #696969;}#sk-container-id-1 label.sk-toggleable__label-arrow:hover:before {color: black;}#sk-container-id-1 div.sk-estimator:hover label.sk-toggleable__label-arrow:before {color: black;}#sk-container-id-1 div.sk-toggleable__content {max-height: 0;max-width: 0;overflow: hidden;text-align: left;background-color: #f0f8ff;}#sk-container-id-1 div.sk-toggleable__content pre {margin: 0.2em;color: black;border-radius: 0.25em;background-color: #f0f8ff;}#sk-container-id-1 input.sk-toggleable__control:checked~div.sk-toggleable__content {max-height: 200px;max-width: 100%;overflow: auto;}#sk-container-id-1 input.sk-toggleable__control:checked~label.sk-toggleable__label-arrow:before {content: \"▾\";}#sk-container-id-1 div.sk-estimator input.sk-toggleable__control:checked~label.sk-toggleable__label {background-color: #d4ebff;}#sk-container-id-1 div.sk-label input.sk-toggleable__control:checked~label.sk-toggleable__label {background-color: #d4ebff;}#sk-container-id-1 input.sk-hidden--visually {border: 0;clip: rect(1px 1px 1px 1px);clip: rect(1px, 1px, 1px, 1px);height: 1px;margin: -1px;overflow: hidden;padding: 0;position: absolute;width: 1px;}#sk-container-id-1 div.sk-estimator {font-family: monospace;background-color: #f0f8ff;border: 1px dotted black;border-radius: 0.25em;box-sizing: border-box;margin-bottom: 0.5em;}#sk-container-id-1 div.sk-estimator:hover {background-color: #d4ebff;}#sk-container-id-1 div.sk-parallel-item::after {content: \"\";width: 100%;border-bottom: 1px solid gray;flex-grow: 1;}#sk-container-id-1 div.sk-label:hover label.sk-toggleable__label {background-color: #d4ebff;}#sk-container-id-1 div.sk-serial::before {content: \"\";position: absolute;border-left: 1px solid gray;box-sizing: border-box;top: 0;bottom: 0;left: 50%;z-index: 0;}#sk-container-id-1 div.sk-serial {display: flex;flex-direction: column;align-items: center;background-color: white;padding-right: 0.2em;padding-left: 0.2em;position: relative;}#sk-container-id-1 div.sk-item {position: relative;z-index: 1;}#sk-container-id-1 div.sk-parallel {display: flex;align-items: stretch;justify-content: center;background-color: white;position: relative;}#sk-container-id-1 div.sk-item::before, #sk-container-id-1 div.sk-parallel-item::before {content: \"\";position: absolute;border-left: 1px solid gray;box-sizing: border-box;top: 0;bottom: 0;left: 50%;z-index: -1;}#sk-container-id-1 div.sk-parallel-item {display: flex;flex-direction: column;z-index: 1;position: relative;background-color: white;}#sk-container-id-1 div.sk-parallel-item:first-child::after {align-self: flex-end;width: 50%;}#sk-container-id-1 div.sk-parallel-item:last-child::after {align-self: flex-start;width: 50%;}#sk-container-id-1 div.sk-parallel-item:only-child::after {width: 0;}#sk-container-id-1 div.sk-dashed-wrapped {border: 1px dashed gray;margin: 0 0.4em 0.5em 0.4em;box-sizing: border-box;padding-bottom: 0.4em;background-color: white;}#sk-container-id-1 div.sk-label label {font-family: monospace;font-weight: bold;display: inline-block;line-height: 1.2em;}#sk-container-id-1 div.sk-label-container {text-align: center;}#sk-container-id-1 div.sk-container {/* jupyter's `normalize.less` sets `[hidden] { display: none; }` but bootstrap.min.css set `[hidden] { display: none !important; }` so we also need the `!important` here to be able to override the default hidden behavior on the sphinx rendered scikit-learn.org. See: https://github.com/scikit-learn/scikit-learn/issues/21755 */display: inline-block !important;position: relative;}#sk-container-id-1 div.sk-text-repr-fallback {display: none;}</style><div id=\"sk-container-id-1\" class=\"sk-top-container\"><div class=\"sk-text-repr-fallback\"><pre>LogisticRegression()</pre><b>In a Jupyter environment, please rerun this cell to show the HTML representation or trust the notebook. <br />On GitHub, the HTML representation is unable to render, please try loading this page with nbviewer.org.</b></div><div class=\"sk-container\" hidden><div class=\"sk-item\"><div class=\"sk-estimator sk-toggleable\"><input class=\"sk-toggleable__control sk-hidden--visually\" id=\"sk-estimator-id-1\" type=\"checkbox\" checked><label for=\"sk-estimator-id-1\" class=\"sk-toggleable__label sk-toggleable__label-arrow\">LogisticRegression</label><div class=\"sk-toggleable__content\"><pre>LogisticRegression()</pre></div></div></div></div></div>"
      ],
      "text/plain": [
       "LogisticRegression()"
      ]
     },
     "execution_count": 18,
     "metadata": {},
     "output_type": "execute_result"
    }
   ],
   "source": [
    "# Train the model\n",
    "logreg_model.fit(X_train_scaled, y_train)"
   ]
  },
  {
   "cell_type": "code",
   "execution_count": 19,
   "id": "caf5bf2d-7345-4dd0-9e41-888d253acef4",
   "metadata": {},
   "outputs": [],
   "source": [
    "# Predictions on the test set\n",
    "y_pred = logreg_model.predict(X_test_scaled)"
   ]
  },
  {
   "cell_type": "code",
   "execution_count": 20,
   "id": "cf565e9e-ed2c-494c-9edc-b48c7397f400",
   "metadata": {},
   "outputs": [
    {
     "name": "stdout",
     "output_type": "stream",
     "text": [
      "Accuracy: 0.9832535885167464\n"
     ]
    }
   ],
   "source": [
    "# Evaluate the model\n",
    "accuracy = accuracy_score(y_test, y_pred)\n",
    "print(\"Accuracy:\", accuracy)"
   ]
  },
  {
   "cell_type": "code",
   "execution_count": 21,
   "id": "980c47bd-c4a0-4604-bd50-e725630b1004",
   "metadata": {},
   "outputs": [
    {
     "name": "stdout",
     "output_type": "stream",
     "text": [
      "Classification Report:\n",
      "              precision    recall  f1-score   support\n",
      "\n",
      "           0       1.00      0.93      0.96        98\n",
      "           1       0.98      1.00      0.99       320\n",
      "\n",
      "    accuracy                           0.98       418\n",
      "   macro avg       0.99      0.96      0.98       418\n",
      "weighted avg       0.98      0.98      0.98       418\n",
      "\n"
     ]
    }
   ],
   "source": [
    "# Classification report\n",
    "print(\"Classification Report:\")\n",
    "print(classification_report(y_test, y_pred))\n"
   ]
  },
  {
   "cell_type": "code",
   "execution_count": 22,
   "id": "8f69c3c7-7e55-44da-a329-7e8605ffece2",
   "metadata": {},
   "outputs": [
    {
     "name": "stdout",
     "output_type": "stream",
     "text": [
      "Confusion Matrix:\n",
      "[[ 91   7]\n",
      " [  0 320]]\n"
     ]
    }
   ],
   "source": [
    "# Confusion matrix\n",
    "print(\"Confusion Matrix:\")\n",
    "print(confusion_matrix(y_test, y_pred))"
   ]
  },
  {
   "cell_type": "code",
   "execution_count": 24,
   "id": "6bb4e685-16f9-4ffa-ab48-b443d4347d40",
   "metadata": {},
   "outputs": [
    {
     "data": {
      "image/png": "[encoded data removed]",
      "text/plain": [
       "<Figure size 800x600 with 1 Axes>"
      ]
     },
     "metadata": {},
     "output_type": "display_data"
    },
    {
     "data": {
      "text/plain": [
       "<Figure size 640x480 with 0 Axes>"
      ]
     },
     "metadata": {},
     "output_type": "display_data"
    }
   ],
   "source": [
    "# Define accuracy and error rate\n",
    "accuracy = 98\n",
    "error_rate = 100 - accuracy\n",
    "import matplotlib.pyplot as plt\n",
    "\n",
    "# Define labels and sizes for the pie chart\n",
    "labels = ['Accuracy', 'Error Rate']\n",
    "sizes = [accuracy, error_rate]\n",
    "colors = ['lightgreen', 'lightcoral']\n",
    "explode = (0.1, 0)  # Explode the \"Accuracy\" slice\n",
    "\n",
    "# Create pie chart\n",
    "plt.figure(figsize=(8, 6))\n",
    "plt.pie(sizes, explode=explode, labels=labels, colors=colors, autopct='%1.1f%%', shadow=True, startangle=140)\n",
    "plt.title('Model Accuracy')\n",
    "plt.axis('equal')  # Equal aspect ratio ensures that pie is drawn as a circle\n",
    "plt.show()\n",
    "plt.savefig('logistic_accuracy.png')\n"
   ]
  },
  {
   "cell_type": "code",
   "execution_count": null,
   "id": "d4781286-48b9-4dca-b3af-03bab931488d",
   "metadata": {},
   "outputs": [],
   "source": []
  }
 ],
 "metadata": {
  "kernelspec": {
   "display_name": "Python 3 (ipykernel)",
   "language": "python",
   "name": "python3"
  },
  "language_info": {
   "codemirror_mode": {
    "name": "ipython",
    "version": 3
   },
   "file_extension": ".py",
   "mimetype": "text/x-python",
   "name": "python",
   "nbconvert_exporter": "python",
   "pygments_lexer": "ipython3",
   "version": "3.12.0"
  }
 },
 "nbformat": 4,
 "nbformat_minor": 5
}
